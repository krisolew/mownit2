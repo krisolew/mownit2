{
 "cells": [
  {
   "cell_type": "markdown",
   "metadata": {},
   "source": [
    "# Metoda Newtona"
   ]
  },
  {
   "cell_type": "code",
   "execution_count": 4,
   "metadata": {},
   "outputs": [
    {
     "name": "stdout",
     "output_type": "stream",
     "text": [
      "Znaleziono rozwiazanie po  4  iteracjach\n",
      "1.618033988749989\n"
     ]
    }
   ],
   "source": [
    "def newton(f,Df,x0,epsilon,max_iter):\n",
    "    xn = x0\n",
    "    for n in range(0,max_iter):\n",
    "        fxn = f(xn)\n",
    "        if abs(fxn) < epsilon:\n",
    "            print('Znaleziono rozwiazanie po ',n,' iteracjach')\n",
    "            return xn\n",
    "        Dfxn = Df(xn)\n",
    "        if Dfxn == 0:\n",
    "            print('Nieznaleziono rozwiazania.')\n",
    "            return None\n",
    "        xn = xn - fxn/Dfxn\n",
    "    print('Za mało iteracji.')\n",
    "    return None\n",
    "\n",
    "f = lambda x: x**2 - x - 1\n",
    "Df = lambda x: 2*x - 1\n",
    "x0 = 2\n",
    "epsilon = 1e-10\n",
    "max_iter = 20\n",
    "\n",
    "print(newton(f, Df, x0, epsilon, max_iter))"
   ]
  },
  {
   "cell_type": "markdown",
   "metadata": {},
   "source": [
    "# Metoda Jacobiego"
   ]
  },
  {
   "cell_type": "code",
   "execution_count": 14,
   "metadata": {},
   "outputs": [
    {
     "name": "stdout",
     "output_type": "stream",
     "text": [
      "[1. 2. 3.]\n",
      "[1. 2. 3.]\n"
     ]
    }
   ],
   "source": [
    "import numpy as np\n",
    "\n",
    "def jacobi(A,b,n):\n",
    "    \n",
    "    x = np.zeros(len(A[0]))\n",
    "\n",
    "    D = np.diag(A)\n",
    "    R = A - np.diagflat(D)\n",
    "\n",
    "    for i in range(n):\n",
    "        x = (b - np.dot(R,x)) / D\n",
    "    return x\n",
    "\n",
    "A = np.array([[12,3,4],[5,9,1],[1,4,8]])\n",
    "b = np.array([30,26,33])\n",
    "\n",
    "print(jacobi(A,b,50))\n",
    "print(np.linalg.solve(A,b))"
   ]
  },
  {
   "cell_type": "code",
   "execution_count": 51,
   "metadata": {},
   "outputs": [
    {
     "data": {
      "image/png": "[encoded data removed]",
      "text/plain": [
       "<Figure size 432x288 with 1 Axes>"
      ]
     },
     "metadata": {
      "needs_background": "light"
     },
     "output_type": "display_data"
    }
   ],
   "source": [
    "import matplotlib.pyplot as plt\n",
    "\n",
    "A = np.array([[12,3,4],[5,9,1],[1,4,8]])\n",
    "b = np.array([30,26,33])\n",
    "\n",
    "def dist(a: np.array, b: np.array) -> int:\n",
    "    res = 0\n",
    "    for i in range(np.sqrt(a.size)):\n",
    "        res += (a[i][0] - b[i][0]) ** 2\n",
    "    return res\n",
    "\n",
    "def dist(a: np.array, b: np.array) -> int:\n",
    "    res = 0\n",
    "    for i in range(result.size):\n",
    "        res += (a[i] - b[i]) ** 2\n",
    "    return res\n",
    "\n",
    "j = np.zeros(31)\n",
    "result = np.linalg.solve(A,b)\n",
    "\n",
    "for i in range(31):\n",
    "    j[i] = dist(result, jacobi(A,b,i))\n",
    "\n",
    "plt.plot(list(range(0, 31)), j, 'ro')\n",
    "plt.show()"
   ]
  }
 ],
 "metadata": {
  "kernelspec": {
   "display_name": "Python 3",
   "language": "python",
   "name": "python3"
  },
  "language_info": {
   "codemirror_mode": {
    "name": "ipython",
    "version": 3
   },
   "file_extension": ".py",
   "mimetype": "text/x-python",
   "name": "python",
   "nbconvert_exporter": "python",
   "pygments_lexer": "ipython3",
   "version": "3.7.3"
  }
 },
 "nbformat": 4,
 "nbformat_minor": 2
}
