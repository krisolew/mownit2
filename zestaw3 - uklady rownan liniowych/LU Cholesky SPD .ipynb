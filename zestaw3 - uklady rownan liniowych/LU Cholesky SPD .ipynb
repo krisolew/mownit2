{
 "cells": [
  {
   "cell_type": "code",
   "execution_count": 14,
   "metadata": {},
   "outputs": [
    {
     "name": "stdout",
     "output_type": "stream",
     "text": [
      "[[1. 0. 0.]\n",
      " [1. 1. 0.]\n",
      " [5. 2. 1.]]\n",
      "[[ 1.  2.  3.]\n",
      " [ 0. -2. -1.]\n",
      " [ 0.  0. -6.]]\n",
      "[[1. 2. 3.]\n",
      " [1. 0. 2.]\n",
      " [5. 6. 7.]]\n"
     ]
    }
   ],
   "source": [
    "import numpy as np\n",
    "from typing import Optional, Tuple\n",
    "\n",
    "def agh_superfast_lu(a: np.matrix) -> Optional[Tuple[np.matrix, np.matrix]]:\n",
    "    \"\"\"Perform LU decomposition of a matrix.\n",
    "    \n",
    "    :param a: matrix\n",
    "    :return:  (L, U)\n",
    "    \"\"\"\n",
    "    n = a.shape[0]\n",
    "    L = np.matrix(np.zeros(n*n).reshape(n, n))\n",
    "    U = np.matrix(np.zeros(n*n).reshape(n, n))\n",
    "    \n",
    "    for i in range(n):\n",
    "        L.itemset((i, i), 1)\n",
    "        \n",
    "    for k in range(n):\n",
    "        for j in range(k, n):\n",
    "            sum = a.item((k, j))\n",
    "            for i in range(k):\n",
    "                sum -= L.item((k, i)) * U.item(i, j)\n",
    "            U.itemset((k, j), sum)\n",
    "            \n",
    "            sum = a.item((j, k))\n",
    "            for i in range(k):\n",
    "                sum -= L.item((j, i)) * U.item((i, k))\n",
    "            sum /= U.item((k, k))\n",
    "            L.itemset((j, k), sum)\n",
    "    \n",
    "    return (L, U)\n",
    "\n",
    "a = np.matrix([[1,2,3],[1,0,2],[5,6,7]])\n",
    "\n",
    "L, U = agh_superfast_lu(a)\n",
    "\n",
    "print(L)\n",
    "print(U)\n",
    "print(L*U)"
   ]
  },
  {
   "cell_type": "code",
   "execution_count": 17,
   "metadata": {},
   "outputs": [
    {
     "name": "stdout",
     "output_type": "stream",
     "text": [
      "True\n",
      "False\n"
     ]
    }
   ],
   "source": [
    "def minor(arr,i,j) -> np.matrix:\n",
    "    return arr[np.array(list(range(i))+list(range(i+1,arr.shape[0])))[:,np.newaxis],\n",
    "               np.array(list(range(j))+list(range(j+1,arr.shape[1])))]\n",
    "\n",
    "def agh_superfast_check_spd(a: np.matrix) -> bool:\n",
    "    \"\"\"Check whether a matrix is symmetric and positive-definite (SPD).\n",
    "    \n",
    "    :param a: matrix\n",
    "    \"\"\"\n",
    "    n = a.shape[0]\n",
    "    tmp = a\n",
    "    for i in range(n-1, 0, -1):\n",
    "        tmp = minor(tmp, i, i)\n",
    "        if np.linalg.det(tmp) < 0:\n",
    "            return false\n",
    "    return np.all(a == a.transpose())\n",
    "\n",
    "a = np.matrix([[2,-1,0],[-1,2,-1],[0,-1,2]])\n",
    "\n",
    "b = np.matrix([[1,2],[3,4]])\n",
    "\n",
    "print(agh_superfast_check_spd(a))\n",
    "print(agh_superfast_check_spd(b))"
   ]
  },
  {
   "cell_type": "code",
   "execution_count": 44,
   "metadata": {},
   "outputs": [
    {
     "name": "stdout",
     "output_type": "stream",
     "text": [
      "A:\n",
      "[[ 6  3  4  1]\n",
      " [ 3  6  0  1]\n",
      " [ 4  5 10  0]\n",
      " [ 0  1  7 25]]\n",
      "L:\n",
      "[[2.44948974 0.         0.         0.        ]\n",
      " [1.22474487 2.12132034 0.         0.        ]\n",
      " [1.63299316 1.41421356 2.30940108 0.        ]\n",
      " [0.         0.47140452 2.74241378 4.15414786]]\n"
     ]
    }
   ],
   "source": [
    "import math\n",
    "\n",
    "def agh_superfast_cholesky(a: np.matrix) -> Optional[np.matrix]:\n",
    "    \"\"\"Perform a Cholesky decomposition of a matrix.\n",
    "    \n",
    "    :param a: matrix\n",
    "    :return:  matrix\n",
    "    \"\"\"\n",
    "    \n",
    "    n = a.shape[0]\n",
    "    L = np.matrix(np.zeros(n*n).reshape(n,n))\n",
    "\n",
    "    for k in range(n):\n",
    "        tmp_sum = 0\n",
    "        for j in range(k):\n",
    "            tmp_sum += L.item((k,j)) * L.item((k,j))\n",
    "        L.itemset((k, k), math.sqrt(a.item((k,k)) - tmp_sum))\n",
    "    \n",
    "        for i in range(k+1,n):\n",
    "            tmp_sum = 0\n",
    "            for j in range(k):\n",
    "                tmp_sum += L.item((i,j)) * L.item((k,j))\n",
    "            L.itemset((i,k), (1.0 / L.item((k,k)) * (a.item((i,k)) - tmp_sum)))\n",
    "    return L\n",
    "\n",
    "A = np.matrix([[6, 3, 4, 1], [3, 6, 0, 1], [4, 5, 10, 0], [0, 1, 7, 25]])\n",
    "L = agh_superfast_cholesky(A)\n",
    "\n",
    "print(\"A:\")\n",
    "print(A)\n",
    "\n",
    "print(\"L:\")\n",
    "print(L)"
   ]
  }
 ],
 "metadata": {
  "kernelspec": {
   "display_name": "Python 3",
   "language": "python",
   "name": "python3"
  },
  "language_info": {
   "codemirror_mode": {
    "name": "ipython",
    "version": 3
   },
   "file_extension": ".py",
   "mimetype": "text/x-python",
   "name": "python",
   "nbconvert_exporter": "python",
   "pygments_lexer": "ipython3",
   "version": "3.6.7"
  }
 },
 "nbformat": 4,
 "nbformat_minor": 2
}
